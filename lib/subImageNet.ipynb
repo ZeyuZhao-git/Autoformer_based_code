{
 "cells": [
  {
   "cell_type": "code",
   "execution_count": 12,
   "metadata": {},
   "outputs": [],
   "source": [
    "# %load subImageNet.py\n",
    "import os\n",
    "import random\n",
    "import argparse\n"
   ]
  },
  {
   "cell_type": "code",
   "execution_count": 13,
   "metadata": {},
   "outputs": [],
   "source": [
    "random.seed(0)\n",
    "parser = argparse.ArgumentParser('Generate SubImageNet', add_help=False)\n",
    "parser.add_argument('--data-path', default='../data/imagenet', type=str,\n",
    "                    help='dataset path')\n",
    "args = parser.parse_args(args=['--data-path','/data02/ImageNet2012'])\n"
   ]
  },
  {
   "cell_type": "code",
   "execution_count": 14,
   "metadata": {},
   "outputs": [
    {
     "name": "stdout",
     "output_type": "stream",
     "text": [
      "/data02/ImageNet2012\n"
     ]
    }
   ],
   "source": [
    "\n",
    "data_path = args.data_path\n",
    "print(data_path)"
   ]
  },
  {
   "cell_type": "code",
   "execution_count": 15,
   "metadata": {},
   "outputs": [],
   "source": [
    "ImageNet_train_path = os.path.join(data_path, 'train')\n",
    "subImageNet_name = 'subImageNet'\n",
    "class_idx_txt_path = os.path.join(data_path, subImageNet_name)\n"
   ]
  },
  {
   "cell_type": "code",
   "execution_count": 16,
   "metadata": {},
   "outputs": [
    {
     "name": "stdout",
     "output_type": "stream",
     "text": [
      "['n01440764', 'n01443537', 'n01484850', 'n01491361', 'n01494475', 'n01496331', 'n01498041', 'n01514668', 'n01514859', 'n01518878', 'n01530575', 'n01531178', 'n01532829', 'n01534433', 'n01537544', 'n01558993', 'n01560419', 'n01580077', 'n01582220', 'n01592084']\n"
     ]
    }
   ],
   "source": [
    "\n",
    "# train\n",
    "classes = sorted(os.listdir(ImageNet_train_path))\n",
    "print(classes[:20])"
   ]
  },
  {
   "cell_type": "code",
   "execution_count": 21,
   "metadata": {},
   "outputs": [
    {
     "name": "stdout",
     "output_type": "stream",
     "text": [
      "n01770081\n",
      "1\n"
     ]
    }
   ],
   "source": [
    "import os\n",
    "\n",
    "folder_path = \"/data02/ImageNet2012/train\"\n",
    "count = 0\n",
    "# 获取文件夹列表\n",
    "folders = [f for f in os.listdir(folder_path) if os.path.isdir(os.path.join(folder_path, f))]\n",
    "\n",
    "# 遍历每个文件夹并输出文件数量\n",
    "for folder in folders:\n",
    "    folder_full_path = os.path.join(folder_path, folder)\n",
    "    files = os.listdir(folder_full_path)\n",
    "    file_count = len(files)\n",
    "    if file_count < 101:\n",
    "        count += 1\n",
    "        print(folder)\n",
    "print(count)"
   ]
  },
  {
   "cell_type": "code",
   "execution_count": 22,
   "metadata": {},
   "outputs": [],
   "source": [
    "if not os.path.exists(os.path.join(data_path, subImageNet_name)):\n",
    "    os.mkdir(os.path.join(data_path, subImageNet_name))\n",
    "\n",
    "subImageNet = dict()\n",
    "with open(os.path.join(class_idx_txt_path, 'subimages_list.txt'), 'w') as f:\n",
    "    subImageNet_class = classes\n",
    "    for iclass in subImageNet_class:\n",
    "        class_path = os.path.join(ImageNet_train_path, iclass)\n",
    "        if not os.path.exists(\n",
    "            os.path.join(\n",
    "                data_path,\n",
    "                subImageNet_name,\n",
    "                iclass)):\n",
    "            os.mkdir(os.path.join(data_path, subImageNet_name, iclass))\n",
    "        # 从train数据集中每份随机采样100张照片放到subInmageNet里\n",
    "        subImages = random.sample(sorted(os.listdir(class_path)), 100)\n",
    "        # print(\"{}\\n\".format(subImages))\n",
    "        f.write(\"{}\\n\".format(subImages))\n",
    "        subImageNet[iclass] = subImages\n",
    "        for image in subImages:\n",
    "            raw_path = os.path.join(ImageNet_train_path, iclass, image)\n",
    "            new_ipath = os.path.join(\n",
    "                data_path, subImageNet_name, iclass, image)\n",
    "            os.system('cp {} {}'.format(raw_path, new_ipath))\n",
    "\n",
    "sub_classes = sorted(subImageNet.keys())\n",
    "with open(os.path.join(class_idx_txt_path, 'info.txt'), 'w') as f:\n",
    "    class_idx = 0\n",
    "    for key in sub_classes:\n",
    "        images = sorted((subImageNet[key]))\n",
    "        # print(len(images))\n",
    "        f.write(\"{}\\n\".format(key))\n",
    "        class_idx = class_idx + 1"
   ]
  },
  {
   "cell_type": "code",
   "execution_count": null,
   "metadata": {},
   "outputs": [],
   "source": [
    "if not os.path.exists(os.path.join(data_path, subImageNet_name)):\n",
    "    os.mkdir(os.path.join(data_path, subImageNet_name))\n",
    "\n",
    "subImageNet = dict()\n",
    "with open(os.path.join(class_idx_txt_path, 'subimages_list.txt'), 'w') as f:\n",
    "    subImageNet_class = classes\n",
    "    for iclass in subImageNet_class:\n",
    "        class_path = os.path.join(ImageNet_train_path, iclass)\n",
    "        if not os.path.exists(\n",
    "            os.path.join(\n",
    "                data_path,\n",
    "                subImageNet_name,\n",
    "                iclass)):\n",
    "            os.mkdir(os.path.join(data_path, subImageNet_name, iclass))\n",
    "        subImages = random.sample(sorted(os.listdir(class_path)), 100)\n",
    "        # print(\"{}\\n\".format(subImages))\n",
    "        f.write(\"{}\\n\".format(subImages))\n",
    "        subImageNet[iclass] = subImages\n",
    "        for image in subImages:\n",
    "            raw_path = os.path.join(ImageNet_train_path, iclass, image)\n",
    "            new_ipath = os.path.join(\n",
    "                data_path, subImageNet_name, iclass, image)\n",
    "            os.system('cp {} {}'.format(raw_path, new_ipath))\n",
    "\n",
    "sub_classes = sorted(subImageNet.keys())\n",
    "with open(os.path.join(class_idx_txt_path, 'info.txt'), 'w') as f:\n",
    "    class_idx = 0\n",
    "    for key in sub_classes:\n",
    "        images = sorted((subImageNet[key]))\n",
    "        # print(len(images))\n",
    "        f.write(\"{}\\n\".format(key))\n",
    "        class_idx = class_idx + 1"
   ]
  }
 ],
 "metadata": {
  "kernelspec": {
   "display_name": "Python 3.7.12 ('AP3D': conda)",
   "language": "python",
   "name": "python3"
  },
  "language_info": {
   "codemirror_mode": {
    "name": "ipython",
    "version": 3
   },
   "file_extension": ".py",
   "mimetype": "text/x-python",
   "name": "python",
   "nbconvert_exporter": "python",
   "pygments_lexer": "ipython3",
   "version": "3.7.12"
  },
  "orig_nbformat": 4,
  "vscode": {
   "interpreter": {
    "hash": "7d5f86b24deeff6f44a35b592070daf9f419bbe0e3b75c47291abca8a6e6aca3"
   }
  }
 },
 "nbformat": 4,
 "nbformat_minor": 2
}
